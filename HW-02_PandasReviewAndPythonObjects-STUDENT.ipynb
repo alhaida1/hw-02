{
 "cells": [
  {
   "cell_type": "markdown",
   "metadata": {},
   "source": [
    "### <p style=\"text-align: right;\"> &#9989; Noor AL Haidari"
   ]
  },
  {
   "cell_type": "markdown",
   "metadata": {},
   "source": [
    "# Homework Assignment #2 (Individual)\n",
    "## Pandas Review and Writing Python Classes"
   ]
  },
  {
   "cell_type": "markdown",
   "metadata": {},
   "source": [
    "<img src=\"https://files.realpython.com/media/Object-Oriented-Programming-OOP-in-Python-3_Watermarked.0d29780806d5.jpg\" width=400px align=\"right\" style=\"margin-left: 20px\" alt=\"Image credit: www.noao.edu\">\n",
    "\n",
    "### Goals for this homework assignment\n",
    "By the end of this assignment, you should be able to:\n",
    "* Use Git to create a repository, track changes to the files within the repository, and push those changes to a remote repository.\n",
    "* Use your Pandas skills to load and explore some data and visualize it with matplotlib\n",
    "* Read and write Python classes, including classes that leverage object inheritance\n",
    "* Refactor functional programming into object oriented programming\n",
    "\n",
    "Work through the following assignment, making sure to follow all of the directions and answer all of the questions.\n",
    "\n",
    "There are **65 points** possible on this assignment. Point values for each part are included in the section headers and question prompts.\n",
    "\n",
    "**This assignment is due roughly two weeks from now at 11:59 pm on Friday, February 26.** It should be uploaded into the \"Homework Assignments\" submission folder for Homework #2.  Submission instructions can be found at the end of the notebook."
   ]
  },
  {
   "cell_type": "markdown",
   "metadata": {},
   "source": [
    "---\n",
    "## Part 1: Add to your Git repository to track your progress on your assignment (3 points)\n",
    "\n",
    "For this assignment, you're going to add it to the `cmse202-s21-turnin` repository you created in class so that you can track your progress on the assignment and preserve the final version that you turn in. In order to do this you need to\n",
    "\n",
    "**&#9989; Do the following**:\n",
    "\n",
    "1. Navigate to your `cmse202-s21-turnin` repository and create a new directory called `hw-02`.\n",
    "2. Move this notebook into that **new directory** in your repository, then **add it and commit it to your repository**.\n",
    "1. Finally, to test that everything is working, \"git push\" the file so that it ends up in your GitHub repository.\n",
    "\n",
    "**Important**: Make sure you've added your Professor and your TA as collaborators to your \"turnin\" respository with \"Read\" access so that we can see your assignment (you should have done this in the previous homework assignment)\n",
    "\n",
    "**Also important**: Make sure that the version of this notebook that you are working on is the same one that you just added to your repository! If you are working on a different copy of the noteobok, **none of your changes will be tracked**!\n",
    "\n",
    "If everything went as intended, the file should now show up on your GitHub account in the \"`cmse202-s21-turnin`\" repository inside the `hw-02` directory that you just created.  Periodically, **you'll be asked to commit your changes to the repository and push them to the remote GitHub location**. Of course, you can always commit your changes more often than that, if you wish.  It can be good to get into a habit of committing your changes any time you make a significant modification, or when you stop working on the project for a bit.\n",
    "\n",
    "**Do this**: Before you move on, put the command that your instructor should run to clone your repository in the empty cell below."
   ]
  },
  {
   "cell_type": "code",
   "execution_count": 1,
   "metadata": {},
   "outputs": [
    {
     "name": "stdout",
     "output_type": "stream",
     "text": [
      "Cloning into 'hw-02'...\n",
      "remote: Enumerating objects: 11, done.\u001b[K\n",
      "remote: Counting objects: 100% (11/11), done.\u001b[K\n",
      "remote: Compressing objects: 100% (10/10), done.\u001b[K\n",
      "remote: Total 11 (delta 1), reused 0 (delta 0), pack-reused 0\u001b[K\n",
      "Unpacking objects: 100% (11/11), done.\n"
     ]
    }
   ],
   "source": [
    "# Put the command for cloning your repository here!\n",
    "! git clone https://github.com/alhaida1/hw-02.git"
   ]
  },
  {
   "cell_type": "markdown",
   "metadata": {},
   "source": [
    "---\n",
    "## Part 2: Load, manipulate, and visualize data with Pandas (28 points)"
   ]
  },
  {
   "cell_type": "markdown",
   "metadata": {},
   "source": [
    "For this part of the assignment, you're going to brush off your Pandas skills and your data manipulation and visualization skills. Throughout the course we'll continue to work with data, so this should be a good opportunity to remind yourself of some tool and techniques you picked up in CMSE 201 or perhaps learn something new.\n",
    "\n",
    "You're going to analyze a subset of the data was that used for this article:\n",
    "\n",
    "**[How A Booming Population And Climate Change Made California’s Wildfires Worse Than Ever](https://www.buzzfeednews.com/article/peteraldhous/california-wildfires-people-climate)**\n",
    "\n",
    "The data originally came from [here](https://www.fs.usda.gov/rds/archive/) and although the article is about fires in California, the original data contained information for _all_ states.\n",
    "\n",
    "The columns in the data correspond to the following:\n",
    "\n",
    "* Column 1: Object ID\n",
    "* Column 2: Fire Year\n",
    "* Column 3: Discovery Day of Year (i.e. what day of the year out of the 365 days in a year)\n",
    "* Column 4: Fire size (in number of acres contained by the perimeter of the fire)\n",
    "* Column 5: Latitude\n",
    "* Column 6: Longitude"
   ]
  },
  {
   "cell_type": "markdown",
   "metadata": {},
   "source": [
    "&#9989; **Question 1 (3 points)**: Read in all of the columns from the `fires.csv` dataset **using Pandas**. The file can be downloaded from here:\n",
    "\n",
    "`https://raw.githubusercontent.com/msu-cmse-courses/cmse202-S21-student/master/data/fires.csv`\n",
    "\n",
    "Remember, CSV stands for \"comma-separated values\".\n",
    "\n",
    "**To confirm that everything went as intended, print out the length of the \"objectid\" column to determine how many data points are in the dataset and print the maximum and minimum of the \"fire_year\" information**. You should find that you have 1755 values with fires that happened from 2011 to 2015.\n",
    "\n",
    "*Remember*, the dataset needs to be in the same location as this notebook for you to be able to read it in."
   ]
  },
  {
   "cell_type": "code",
   "execution_count": 3,
   "metadata": {},
   "outputs": [
    {
     "name": "stdout",
     "output_type": "stream",
     "text": [
      "the length is 1755\n",
      "the max is 2015\n",
      "the min is 2011\n"
     ]
    }
   ],
   "source": [
    "# Put your code here\n",
    "import pandas as pd\n",
    "fires = pd.read_csv('fires.csv')\n",
    "print('the length is', len(fires['objectid']))\n",
    "print('the max is', max(fires['fire_year']))\n",
    "print('the min is', min(fires['fire_year']))"
   ]
  },
  {
   "cell_type": "markdown",
   "metadata": {},
   "source": [
    "&#9989; **Question 2 (5 points)**: **Where did these fires happen?** Make a plot of **latitude** vs **longtiude** and **ensure that it contains useful axis labels and a title**. Make sure that plot conveys meaningful information (i.e. not just a bunch of crazy lines!). Remember, **latitude values run north to south** and **longitude values run east to west** so make sure you put the appropriate values on the appropriate axis.\n",
    "\n",
    "Can you identify which state these fires occurred in? *Hint*: It's _not_ California. *Second hint*: If it's not immediately obvious to you, examine some of the longitude and latitude values and look them up on [Google Maps](http://maps.google.com)."
   ]
  },
  {
   "cell_type": "code",
   "execution_count": 4,
   "metadata": {},
   "outputs": [
    {
     "data": {
      "text/html": [
       "<div>\n",
       "<style scoped>\n",
       "    .dataframe tbody tr th:only-of-type {\n",
       "        vertical-align: middle;\n",
       "    }\n",
       "\n",
       "    .dataframe tbody tr th {\n",
       "        vertical-align: top;\n",
       "    }\n",
       "\n",
       "    .dataframe thead th {\n",
       "        text-align: right;\n",
       "    }\n",
       "</style>\n",
       "<table border=\"1\" class=\"dataframe\">\n",
       "  <thead>\n",
       "    <tr style=\"text-align: right;\">\n",
       "      <th></th>\n",
       "      <th>objectid</th>\n",
       "      <th>fire_year</th>\n",
       "      <th>discovery_doy</th>\n",
       "      <th>fire_size</th>\n",
       "      <th>latitude</th>\n",
       "      <th>longitude</th>\n",
       "    </tr>\n",
       "  </thead>\n",
       "  <tbody>\n",
       "    <tr>\n",
       "      <th>0</th>\n",
       "      <td>1500256</td>\n",
       "      <td>2011</td>\n",
       "      <td>152</td>\n",
       "      <td>0.3</td>\n",
       "      <td>44.280840</td>\n",
       "      <td>-85.177160</td>\n",
       "    </tr>\n",
       "    <tr>\n",
       "      <th>1</th>\n",
       "      <td>1500257</td>\n",
       "      <td>2011</td>\n",
       "      <td>88</td>\n",
       "      <td>0.1</td>\n",
       "      <td>42.001463</td>\n",
       "      <td>-83.215159</td>\n",
       "    </tr>\n",
       "    <tr>\n",
       "      <th>2</th>\n",
       "      <td>1500258</td>\n",
       "      <td>2011</td>\n",
       "      <td>124</td>\n",
       "      <td>0.3</td>\n",
       "      <td>44.880750</td>\n",
       "      <td>-84.309280</td>\n",
       "    </tr>\n",
       "    <tr>\n",
       "      <th>3</th>\n",
       "      <td>1500259</td>\n",
       "      <td>2011</td>\n",
       "      <td>210</td>\n",
       "      <td>0.1</td>\n",
       "      <td>45.176320</td>\n",
       "      <td>-84.342200</td>\n",
       "    </tr>\n",
       "    <tr>\n",
       "      <th>4</th>\n",
       "      <td>1500260</td>\n",
       "      <td>2011</td>\n",
       "      <td>243</td>\n",
       "      <td>0.4</td>\n",
       "      <td>43.233130</td>\n",
       "      <td>-86.335540</td>\n",
       "    </tr>\n",
       "  </tbody>\n",
       "</table>\n",
       "</div>"
      ],
      "text/plain": [
       "   objectid  fire_year  discovery_doy  fire_size   latitude  longitude\n",
       "0   1500256       2011            152        0.3  44.280840 -85.177160\n",
       "1   1500257       2011             88        0.1  42.001463 -83.215159\n",
       "2   1500258       2011            124        0.3  44.880750 -84.309280\n",
       "3   1500259       2011            210        0.1  45.176320 -84.342200\n",
       "4   1500260       2011            243        0.4  43.233130 -86.335540"
      ]
     },
     "execution_count": 4,
     "metadata": {},
     "output_type": "execute_result"
    }
   ],
   "source": [
    "fires.head()"
   ]
  },
  {
   "cell_type": "code",
   "execution_count": 5,
   "metadata": {},
   "outputs": [
    {
     "data": {
      "text/plain": [
       "<matplotlib.collections.PathCollection at 0x7f9945156240>"
      ]
     },
     "execution_count": 5,
     "metadata": {},
     "output_type": "execute_result"
    },
    {
     "data": {
      "image/png": "[encoded data removed]",
      "text/plain": [
       "<Figure size 432x288 with 1 Axes>"
      ]
     },
     "metadata": {
      "needs_background": "light"
     },
     "output_type": "display_data"
    }
   ],
   "source": [
    "### Put your code here\n",
    "import matplotlib.pyplot as plt\n",
    "plt.scatter(fires['longitude'], fires['latitude'])"
   ]
  },
  {
   "cell_type": "markdown",
   "metadata": {},
   "source": [
    "The latitude and longitude showed that the state these fires were in michigan"
   ]
  },
  {
   "cell_type": "markdown",
   "metadata": {},
   "source": [
    "&#9989; **Question 3 (6 points)**: **Exploring fire sizes.** For this part, you're going to perform some data analysis to learn a bit about the sizes of the fires contains in the dataset.\n",
    "\n",
    "Calculate and print the following (there's more than one way to do this, both \"by hand\" and using built-in Pandas functionality):\n",
    "\n",
    "1. The minimum fire size\n",
    "2. The maximum fire size\n",
    "3. The mean (average) of the fire sizes\n",
    "4. The median (the middle or \"typical\" value) of the fire sizes\n",
    "\n",
    "After you compute these values, **comment on what this tells you about the distribution of fire sizes in the data in the markdown cell below**. Are there more small fires or more large fires? Explain your answer."
   ]
  },
  {
   "cell_type": "code",
   "execution_count": 7,
   "metadata": {},
   "outputs": [
    {
     "name": "stdout",
     "output_type": "stream",
     "text": [
      "the minimum number of fire is  0.01\n",
      "the maximum number of fire is  21069.0\n",
      "the mean number of fire is  18.450837606837343\n",
      "the median number of fire is  0.5\n"
     ]
    }
   ],
   "source": [
    "import numpy as np\n",
    "fire_size = fires['fire_size']\n",
    "print('the minimum number of fire is ', min(fire_size))\n",
    "print('the maximum number of fire is ', max(fire_size))\n",
    "print('the mean number of fire is ', np.mean(fire_size))\n",
    "print('the median number of fire is ', np.median(fire_size))"
   ]
  },
  {
   "cell_type": "markdown",
   "metadata": {},
   "source": [
    "The data is asymetrical and isn't skewed into a specific side. Instead it's randomly distributed"
   ]
  },
  {
   "cell_type": "markdown",
   "metadata": {},
   "source": [
    "&#9989; **Question 4 (6 points)**: **Filtering the data by masking out large values.** Now that you have a bit of a sense for the range of fire sizes in the data, you're going to filter the data to look only at the smaller fires. To accomplish this, do the follow:\n",
    "\n",
    "1. Create a mask that selects only the fires in the dataset that are ***less than or equal to 5 acres***.\n",
    "2. Once you have that mask, use it to compute what fraction of all fires meet this condition and print that fraction.\n",
    "3. Then, make a histogram of the fires that meet this condition. Use **15 bins** in your histogram and make sure to put axis labels on your plot.\n",
    "\n",
    "**Does the resulting histogram agree with your conclusions from your simple statistical analysis?** \n",
    "\n",
    "[If you cannot figure out how to do this using a mask, find the fires that meet this criteria using any method that you can come up with to receive partial credit.]"
   ]
  },
  {
   "cell_type": "code",
   "execution_count": 8,
   "metadata": {},
   "outputs": [
    {
     "name": "stdout",
     "output_type": "stream",
     "text": [
      "the fraction is  0.8883190883190883\n"
     ]
    },
    {
     "data": {
      "text/plain": [
       "(array([788., 194., 184.,  61.,  53.,  87.,  26.,  37.,  34.,  12.,  20.,\n",
       "         19.,   8.,  11.,  25.]),\n",
       " array([0.01      , 0.34266667, 0.67533333, 1.008     , 1.34066667,\n",
       "        1.67333333, 2.006     , 2.33866667, 2.67133333, 3.004     ,\n",
       "        3.33666667, 3.66933333, 4.002     , 4.33466667, 4.66733333,\n",
       "        5.        ]),\n",
       " <BarContainer object of 15 artists>)"
      ]
     },
     "execution_count": 8,
     "metadata": {},
     "output_type": "execute_result"
    },
    {
     "data": {
      "image/png": "[encoded data removed]",
      "text/plain": [
       "<Figure size 432x288 with 1 Axes>"
      ]
     },
     "metadata": {
      "needs_background": "light"
     },
     "output_type": "display_data"
    }
   ],
   "source": [
    "### Put your code here\n",
    "x = fire_size[fire_size <= 5]\n",
    "\n",
    "frac = len(x)/len(fire_size)\n",
    "print('the fraction is ', frac)\n",
    "\n",
    "plt.hist(x, bins = 15)"
   ]
  },
  {
   "cell_type": "markdown",
   "metadata": {},
   "source": [
    "The histogram doesn't agee with my previous theory"
   ]
  },
  {
   "cell_type": "markdown",
   "metadata": {},
   "source": [
    "&#9989; **Question 5 (8 points)**: **Where are most of the fires happening?** Now that you have a sense for where the fires are happening and how big they are, the last thing you're going to do is try to figure out where the fires most often occur.\n",
    "\n",
    "To do this, you're going to use a potentially new-to-you function, `plt.hexbin()`. This function will create a \"heat map\" (pardon the pun!) of where the fires are most often occurring.\n",
    "\n",
    "You should use your longitude and latitude values for **_all_** of the fires as your inputs to `plt.hexbin()`. You should also set the `gridsize` to `50`, the `bins` to `'log'`, and the colormap to `'inferno'` (because fire!). **Make sure you label your plot axes and add a labeled colorbar to the plot.**\n",
    "\n",
    "For reference, the documentation for `plt.hexbin()` can be found [here](https://matplotlib.org/stable/api/_as_gen/matplotlib.pyplot.hexbin.html).\n",
    "\n",
    "Examples of what a hexbin plot looks like can be found [here](https://matplotlib.org/2.0.2/examples/pylab_examples/hexbin_demo.html).\n",
    "\n",
    "Based on your results, **which forest (could be a state forest or a national forest) seems to be having the most fires?** Put your answer in the markdown cell below and justify your conclusion. You might need to consult an actual map to figure this out!"
   ]
  },
  {
   "cell_type": "code",
   "execution_count": 19,
   "metadata": {},
   "outputs": [
    {
     "data": {
      "text/plain": [
       "<matplotlib.collections.PolyCollection at 0x7f99404a69b0>"
      ]
     },
     "execution_count": 19,
     "metadata": {},
     "output_type": "execute_result"
    },
    {
     "data": {
      "image/png": "[encoded data removed]",
      "text/plain": [
       "<Figure size 432x288 with 1 Axes>"
      ]
     },
     "metadata": {
      "needs_background": "light"
     },
     "output_type": "display_data"
    }
   ],
   "source": [
    "### Put your code here\n",
    "plotvar = np.histogram(x)\n",
    "plotvar\n",
    "plt.hexbin(plotvar[1][:-1], plotvar[0], gridsize=50, bins='log', cmap='inferno')"
   ]
  },
  {
   "cell_type": "markdown",
   "metadata": {},
   "source": [
    "<font size=+3>&#9998;</font> Do This - Erase the contents of this cell an put your answer to \"which forest (could be a state forest or a national forest) seems to be having the most fires?\" here."
   ]
  },
  {
   "cell_type": "markdown",
   "metadata": {},
   "source": [
    "---\n",
    "### &#128721; STOP\n",
    "**Pause to commit your changes to your Git repository!**\n",
    "\n",
    "Take a moment to save your notebook, commit the changes to your Git repository using the commit message \"Committing Part 2\", and push the changes to GitHub.\n",
    "\n",
    "---"
   ]
  },
  {
   "cell_type": "markdown",
   "metadata": {},
   "source": [
    "## Part 3: Writing a simple Python class (22 points)\n",
    "\n",
    "### 3.1 Enhancing and using a pre-existing class (14 points)\n",
    "\n",
    "For this section, you're going to expand on the pre-existing Python class contained in a file called `Student.py`. You'll need to download this script and put it in the same location as this notebook. **You should also add it and commit it to your repository in the same `hw-02` folder**. You can download the file from here:\n",
    "\n",
    "`https://raw.githubusercontent.com/msu-cmse-courses/cmse202-S21-student/master/code_samples/Student.py`\n",
    "\n",
    "The Python class contrained in this script is called `Student` and, not surprisingly, it is designed to store information about an individual student and currently just includes one simple method, one that prints the student's name.\n",
    "\n",
    "**&#9989; Question 6 (14 points); Do This (make sure to read _everything_ carefully):** Using this class as a starting point, your goal is to do the following:\n",
    "\n",
    "* Add a new attribute, `year`, to the class so that it is defined when the class object is first initialized. This attribute will represent how many years the student has been in college. \n",
    "* Add a new class method, `enroll`, that takes as input a list of courses and adds them as an attribute to the student\n",
    "* Add a new class method, `display_courses`, that prints out: <br>\n",
    "\"I am enrolled in: < courses >\" <br>\n",
    "where the < courses > part is filled in with the courses that are added by the `enroll` method.\n",
    "* Add a new class method, `years_until_graduation`, that **returns** the number of years left until the student graduates (assuming that a student typically graduates after 4 years)\n",
    "\n",
    "You should then **import your new `Student` class from the script so that you can create student objects in your notebook**. \n",
    "\n",
    "Then, do the folowing:\n",
    "* using the `roster` provided below, **create a list of `Student` objects that contain the information for each student.**\n",
    "* using your list of students, **randomly enroll each of them in two of these three classes: 'CMSE 202', 'ISP 205', or 'HB 409'.** You should enroll the students using your `enroll` method.\n",
    "* Once you've enrolled all of your students, **use your student list to print the following for every student**:\n",
    "\n",
    ">My name is < name > <br>\n",
    "I am enrolled in < courses > <br>\n",
    "I will graduate in < years until graduation > years.\n",
    "\n",
    "where the appropriate student information is filled in for each part indicated by the < >'s\n",
    "\n",
    "* Finally, **print the average GPA for this list of students**.\n",
    "\n",
    "**Note**: you should also practice writing docstrings in your class script so that it is clear what your methods are doing!"
   ]
  },
  {
   "cell_type": "code",
   "execution_count": null,
   "metadata": {
    "scrolled": true
   },
   "outputs": [],
   "source": [
    "# This is your roster of students (ignore the fact that apparently dogs can enroll in college courses)\n",
    "# The information provided is: name, GPA, years in college\n",
    "roster = [['Fred', 2.0, 4],\n",
    "          ['Velma', 3.5, 2],\n",
    "          ['Daphne', 3.0, 3],\n",
    "          ['Shaggy', 2.5, 2],\n",
    "          ['Scooby', 3.5, 3],\n",
    "          ['Scrappy', 4.0, 1]]"
   ]
  },
  {
   "cell_type": "code",
   "execution_count": null,
   "metadata": {},
   "outputs": [],
   "source": [
    "# Put your code here. Make sure to important your Student class and another other modules you might need.\n"
   ]
  },
  {
   "cell_type": "markdown",
   "metadata": {},
   "source": [
    "### 3.2 Inheriting your new class (8 points)\n",
    "\n",
    "**&#9989; Question 7 (8 points)**: Now that you have a functioning class, your next task is to create a second class, `Spartan`, that **inherits** the `Student` class. **You should create this new class in the same `Student.py` script. When you're done, there should be two different classes available to be imported from the script: `Student` and `Spartan`.**\n",
    "\n",
    "In this new `Spartan` class, do the following:\n",
    "\n",
    "* add a new class method, `set_motto`, that takes a string as an input  and uses it to set a new class attribute, `motto`.\n",
    "* add a second new class method, `school_spirit`, that prints:\n",
    "\n",
    ">My name is < name > <br>\n",
    "I am a Spartan. My motto is < motto >\"\n",
    "\n",
    "where < name > and < motto > use the appropriate attribute values from your object.\n",
    "\n",
    "Finally, **import your new Spartan class and create a version of yourself by initializing a new `Spartan` object with your own information. Set your motto to be \"Advancing Knowledge. Transforming Lives.\" and test out your `school_spirit` method.**\n",
    "\n",
    "**IMPORTANT NOTE**: Once you've written your new Spartan class, you'll need to restart your notebook kernel before you try to import the new `Spartan` class. By default, the Jupyter notebook doesn't re-import old packages/scripts once its done so the first time, but if you restart the notebook kernel, it should find your new `Spartan` class."
   ]
  },
  {
   "cell_type": "code",
   "execution_count": null,
   "metadata": {},
   "outputs": [],
   "source": [
    "# Put your code here. Make sure you restart your notebook kernel before trying to import your new Spartan object.\n"
   ]
  },
  {
   "cell_type": "markdown",
   "metadata": {},
   "source": [
    "---\n",
    "### &#128721; STOP\n",
    "**Pause to commit your changes to your Git repository!**\n",
    "\n",
    "Take a moment to save your notebook, commit the changes to your Git repository using the commit message \"Committing part 3\", and push the changes to GitHub. **Make sure you've added your version of `Student.py` to your repository!**\n",
    "\n",
    "---"
   ]
  },
  {
   "cell_type": "markdown",
   "metadata": {},
   "source": [
    "## Part 4: Transforming your code from functional programming to object-oriented programming (12 points)\n",
    "\n",
    "For this part of the assignment, **you're going to take the code your wrote in Part 3.5 of Homework #1 and convert it to an object oriented approach** rather than the functional programming approach you used previously. If you didn't manage to complete Section 3.5 in the previous assignment or you still had some bugs to work out, this will be your chance to build off of whatever you did manage to get working. Using and reusing code you've built previously is a useful computatonal skill!\n",
    "\n",
    "**&#9989; Question 8 (8 points)**: Using your code from the previous homework assignment and your newfound ability to load, manipulate, and visualize FITS files, you're going to work on building a new Python class that performs the same image manipulation.\n",
    "\n",
    "To get started, you need to first download another script that has the initial framework for the new class that you're going to finish building. The file is called `Observer.py` and it can be downloaded from here:\n",
    "\n",
    "`https://raw.githubusercontent.com/msu-cmse-courses/cmse202-S21-student/master/code_samples/Observer.py`\n",
    "\n",
    "**You should also add it and commit it to your repository in the same `hw-02` folder**.\n",
    "\n",
    "The new class in this script is called `Observer` and the main purpose of this class is to \"observe\" the night sky using images that have been stored as FITS file. This `Observer` should also be capable of computing simple statistics about the images it is observing and make composite images of what it observes.\n",
    "\n",
    "Using the initial framework provided in `Observer.py`, your task is to:\n",
    "\n",
    "1. Finish the `load_images` method so that it takes two image filenames as inputs, loads the FITS files, and stores the image array data as *attributes* of the Observer class.\n",
    "2. Define a new method called `calc_stats` for the Observer class that prints the mean and standard deviation of both images. Make sure that the print statements indicate which image the values correspond to by using the filename attributes that are stored when the Observer is initialized.\n",
    "3. Finish the `make_composite` method so that it creates a 3D NumPy array that represents a 2D image and it's corresponding RGB values. As a reminder, the Red, Green, and Blue channels should be defined in the following ways:\n",
    "    1. The red channel should be defined as $$ 1.5 \\times \\frac{\\mathrm{I~filter~image~array}}{\\mathrm{The~maximum~of~the~R~filter~image~array}}$$\n",
    "    2. The green channel should be based on the average pixels values, speficially defined as $$ \\frac{\\mathrm{(I~filter~image~array + R~filter~image~array)/2}}{\\mathrm{The~maximum~of~the~R~filter~image~array}}$$\n",
    "    3. The blue channel should be defined as $$ \\frac{\\mathrm{R~filter~image~array}}{\\mathrm{The~maximum~of~the~R~filter~image~array}}$$\n",
    "    \n",
    "    **The code for creating the red channel has been provided for you!**\n",
    "    \n",
    "    For this method, you may run into issues with some of your image data values not being of the correct type to do the some of math necessary to make the composite image, so you may need to convert some of the values to the appropriate type. Also, make sure you understand what the code is doing, especially when it comes to \"clipping\" the RGB values!\n",
    "    \n",
    "    When this function is called it should **display the \"false color\" image you've created by using `plt.imshow()`** \n",
    "    \n",
    "**IMPORTANT NOTES**: You should be able to re-use much, if not all, of your code from last time, but you will have to **[refactor](https://en.wikipedia.org/wiki/Code_refactoring)** it a bit to make sure it uses the correct syntax for the class. In particular, you will need to make sure you make use of `self` in the right locations within the class. Also, once your call the `load_images` function, your Observer object should have all of the information it needs for the `calc_stats` method and the `make_composite` method stored in the object attributes. Neither of those functions should need any additional input paramters."
   ]
  },
  {
   "cell_type": "markdown",
   "metadata": {},
   "source": [
    "**&#9989; Question 9 (4 points):** Now that you've defined all of the methods for the `Observer` class, you're going to put them to use.\n",
    "\n",
    "In the following cell:\n",
    "1. Import the `Observer` class from the script.\n",
    "1. Create a new Observer object and provide it with the two file names for the two images (R filter **first** and I filter **second**).\n",
    "2. Use your new Observer object to call the `calc_stats` method.\n",
    "3. Use your new Observer object to call the `make_composite` method.\n",
    "\n",
    "As a reminder, if all goes well, you should end up with a composite image that looks something like this:\n",
    "\n",
    "<div align=\"center\"><img src=\"https://i.ibb.co/X2mK6qN/m42-falsecolor-final.png\" alt=\"m42-falsecolor-final\" border=\"0\"></div>\n",
    "\n",
    "**Important note:** It is not required that your final composite image has the Right Ascension and Declination coordinates, but if you figured out how to do this in Part 5, I encourage you to include it!\n",
    "\n",
    "If you need the data files again, you can get them here:\n",
    "\n",
    "`https://raw.githubusercontent.com/msu-cmse-courses/cmse202-S21-student/master/data/m42_40min_ir.fits`\n",
    "\n",
    "`https://raw.githubusercontent.com/msu-cmse-courses/cmse202-S21-student/master/data/m42_40min_red.fits`"
   ]
  },
  {
   "cell_type": "code",
   "execution_count": null,
   "metadata": {},
   "outputs": [],
   "source": [
    "# The magic commands below tells Jupyter Notebook to automatically load classes and methods from external files \n",
    "# in case they have changed from last load time;\n",
    "# This is useful in case you're editing and trying to debug your script and you should leave them here.\n",
    "%reload_ext autoreload\n",
    "%autoreload 2\n",
    "\n",
    "# Put your code here\n"
   ]
  },
  {
   "cell_type": "markdown",
   "metadata": {},
   "source": [
    "---\n",
    "### &#128721; STOP\n",
    "**Pause to commit your changes to your Git repository!**\n",
    "\n",
    "Take a moment to save your notebook, commit the changes to your Git repository using the commit message \"Committing part 4\", and push the changes to GitHub. **Make sure you've added your version of `Observer.py` to your repository! But _DO NOT_ add the data files!!!**\n",
    "\n",
    "---"
   ]
  },
  {
   "cell_type": "markdown",
   "metadata": {},
   "source": [
    "---\n",
    "## Assignment wrap-up\n",
    "\n",
    "Please fill out the form that appears when you run the code below.  **You must completely fill this out in order to receive credit for the assignment!**"
   ]
  },
  {
   "cell_type": "code",
   "execution_count": null,
   "metadata": {},
   "outputs": [],
   "source": [
    "from IPython.display import HTML\n",
    "HTML(\n",
    "\"\"\"\n",
    "<iframe \n",
    "\tsrc=\"https://forms.office.com/Pages/ResponsePage.aspx?id=MHEXIi9k2UGSEXQjetVofddd5T-Pwn1DlT6_yoCyuCFURVIyS0ZRWTgzRUFOOE1GWDZURUZFS1VBSy4u\" \n",
    "\twidth=\"800px\" \n",
    "\theight=\"600px\" \n",
    "\tframeborder=\"0\" \n",
    "\tmarginheight=\"0\" \n",
    "\tmarginwidth=\"0\">\n",
    "\tLoading...\n",
    "</iframe>\n",
    "\"\"\"\n",
    ")"
   ]
  },
  {
   "cell_type": "markdown",
   "metadata": {},
   "source": [
    "### Congratulations, you're done!\n",
    "\n",
    "Submit this assignment by uploading it to the course Desire2Learn web page.  Go to the \"Homework Assignments\" folder, find the dropbox link for Homework #2, and upload it there."
   ]
  },
  {
   "cell_type": "markdown",
   "metadata": {},
   "source": [
    "&#169; Copyright 2020,  Department of Computational Mathematics, Science and Engineering at Michigan State University"
   ]
  }
 ],
 "metadata": {
  "anaconda-cloud": {},
  "kernelspec": {
   "display_name": "Python 3",
   "language": "python",
   "name": "python3"
  },
  "language_info": {
   "codemirror_mode": {
    "name": "ipython",
    "version": 3
   },
   "file_extension": ".py",
   "mimetype": "text/x-python",
   "name": "python",
   "nbconvert_exporter": "python",
   "pygments_lexer": "ipython3",
   "version": "3.7.3"
  }
 },
 "nbformat": 4,
 "nbformat_minor": 4
}
